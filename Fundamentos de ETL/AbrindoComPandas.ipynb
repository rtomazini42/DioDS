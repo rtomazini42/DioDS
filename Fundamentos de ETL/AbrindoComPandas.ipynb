{
 "cells": [
  {
   "cell_type": "markdown",
   "metadata": {},
   "source": [
    "# Leitura de dados com Pandas"
   ]
  },
  {
   "cell_type": "code",
   "execution_count": 1,
   "metadata": {},
   "outputs": [
    {
     "data": {
      "text/html": [
       "<div>\n",
       "<style scoped>\n",
       "    .dataframe tbody tr th:only-of-type {\n",
       "        vertical-align: middle;\n",
       "    }\n",
       "\n",
       "    .dataframe tbody tr th {\n",
       "        vertical-align: top;\n",
       "    }\n",
       "\n",
       "    .dataframe thead th {\n",
       "        text-align: right;\n",
       "    }\n",
       "</style>\n",
       "<table border=\"1\" class=\"dataframe\">\n",
       "  <thead>\n",
       "    <tr style=\"text-align: right;\">\n",
       "      <th></th>\n",
       "      <th>Index</th>\n",
       "      <th>\"Year\"</th>\n",
       "      <th>\"Age\"</th>\n",
       "      <th>\"Name\"</th>\n",
       "      <th>\"Movie\"</th>\n",
       "    </tr>\n",
       "  </thead>\n",
       "  <tbody>\n",
       "    <tr>\n",
       "      <th>1</th>\n",
       "      <td>1928</td>\n",
       "      <td>44</td>\n",
       "      <td>\"Emil Jannings\"</td>\n",
       "      <td>\"The Last Command</td>\n",
       "      <td>The Way of All Flesh\"</td>\n",
       "    </tr>\n",
       "    <tr>\n",
       "      <th>2</th>\n",
       "      <td>1929</td>\n",
       "      <td>41</td>\n",
       "      <td>\"Warner Baxter\"</td>\n",
       "      <td>\"In Old Arizona\"</td>\n",
       "      <td>NaN</td>\n",
       "    </tr>\n",
       "    <tr>\n",
       "      <th>3</th>\n",
       "      <td>1930</td>\n",
       "      <td>62</td>\n",
       "      <td>\"George Arliss\"</td>\n",
       "      <td>\"Disraeli\"</td>\n",
       "      <td>NaN</td>\n",
       "    </tr>\n",
       "    <tr>\n",
       "      <th>4</th>\n",
       "      <td>1931</td>\n",
       "      <td>53</td>\n",
       "      <td>\"Lionel Barrymore\"</td>\n",
       "      <td>\"A Free Soul\"</td>\n",
       "      <td>NaN</td>\n",
       "    </tr>\n",
       "    <tr>\n",
       "      <th>5</th>\n",
       "      <td>1932</td>\n",
       "      <td>47</td>\n",
       "      <td>\"Wallace Beery\"</td>\n",
       "      <td>\"The Champ\"</td>\n",
       "      <td>NaN</td>\n",
       "    </tr>\n",
       "  </tbody>\n",
       "</table>\n",
       "</div>"
      ],
      "text/plain": [
       "   Index   \"Year\"                \"Age\"              \"Name\"  \\\n",
       "1   1928       44      \"Emil Jannings\"   \"The Last Command   \n",
       "2   1929       41      \"Warner Baxter\"    \"In Old Arizona\"   \n",
       "3   1930       62      \"George Arliss\"          \"Disraeli\"   \n",
       "4   1931       53   \"Lionel Barrymore\"       \"A Free Soul\"   \n",
       "5   1932       47      \"Wallace Beery\"         \"The Champ\"   \n",
       "\n",
       "                  \"Movie\"  \n",
       "1   The Way of All Flesh\"  \n",
       "2                     NaN  \n",
       "3                     NaN  \n",
       "4                     NaN  \n",
       "5                     NaN  "
      ]
     },
     "execution_count": 1,
     "metadata": {},
     "output_type": "execute_result"
    }
   ],
   "source": [
    "import pandas as pd\n",
    "local = \"./Dados/oscar_age_male.csv\" #funciona com url tbm\n",
    "df = pd.read_csv(local)\n",
    "df.head()"
   ]
  },
  {
   "cell_type": "markdown",
   "metadata": {},
   "source": []
  }
 ],
 "metadata": {
  "kernelspec": {
   "display_name": "Python 3",
   "language": "python",
   "name": "python3"
  },
  "language_info": {
   "codemirror_mode": {
    "name": "ipython",
    "version": 3
   },
   "file_extension": ".py",
   "mimetype": "text/x-python",
   "name": "python",
   "nbconvert_exporter": "python",
   "pygments_lexer": "ipython3",
   "version": "3.9.0"
  },
  "orig_nbformat": 4
 },
 "nbformat": 4,
 "nbformat_minor": 2
}
