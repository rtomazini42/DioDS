{
 "cells": [
  {
   "cell_type": "markdown",
   "metadata": {},
   "source": [
    "# **Fundamentos de ETL (Extract, Transform, Load) com Python**\n",
    "\n",
    "ETL vêm de Extract, Transform and Load (extrair, transformar e carregar). Ferramentas de mineração, carregamentos entre outros.\n",
    "Usaremos Pandas e a Framework Luigi criando um  dashboard para visualizar.\n"
   ]
  },
  {
   "cell_type": "markdown",
   "metadata": {},
   "source": [
    "## Introdução ao ETL\n",
    "Precisamos combinar dados de diferentes fontes em uma dashboard.\n",
    "\n",
    "\n",
    "### Extrair\n",
    "Importar dados de diversos tipos e formatos\n",
    "\n",
    "### Transformação\n",
    "Colunas, Linhas\n",
    "Tipo de dados\n",
    "Mesclar, Acrescentar\n",
    "Listas, Tabelas\n",
    "\n",
    "### Load\n",
    "Para o modelo de dados.\n",
    "\n",
    "\n",
    "### Vantagens:\n",
    "Qualidade dos dados\n",
    "Funcionalidade de execução\n",
    "Padronização de informação\n"
   ]
  },
  {
   "cell_type": "markdown",
   "metadata": {},
   "source": [
    "## Pandas\n",
    "Pandas permite Excel e dados de tabela SQL; Além de Matrizes e outras estruturas não rotuladas.\n",
    "\n",
    "### Serie:\n",
    "- Uma Serie é uma matriz unidimensional que contém uma sequencia de valores que tem indexação.\n",
    "\n",
    "### DataFrame\n",
    "- Estrutura tabular, semelhante a planilhas de excel, as linhas e colunas apresentam rótulos.\n",
    "\n",
    "\n",
    "## MatplotLib\n",
    "Para facilitar a visualização."
   ]
  },
  {
   "cell_type": "code",
   "execution_count": 22,
   "metadata": {},
   "outputs": [],
   "source": [
    "#pip install pandas\n",
    "#pip install matplotlib\n",
    "import pandas as pd\n",
    "import matplotlib as plt"
   ]
  },
  {
   "cell_type": "code",
   "execution_count": 3,
   "metadata": {},
   "outputs": [],
   "source": [
    "spotifyData = pd.read_csv('./Dados/spotify-data.csv')"
   ]
  },
  {
   "cell_type": "code",
   "execution_count": 7,
   "metadata": {},
   "outputs": [
    {
     "data": {
      "text/html": [
       "<div>\n",
       "<style scoped>\n",
       "    .dataframe tbody tr th:only-of-type {\n",
       "        vertical-align: middle;\n",
       "    }\n",
       "\n",
       "    .dataframe tbody tr th {\n",
       "        vertical-align: top;\n",
       "    }\n",
       "\n",
       "    .dataframe thead th {\n",
       "        text-align: right;\n",
       "    }\n",
       "</style>\n",
       "<table border=\"1\" class=\"dataframe\">\n",
       "  <thead>\n",
       "    <tr style=\"text-align: right;\">\n",
       "      <th></th>\n",
       "      <th>id</th>\n",
       "      <th>name</th>\n",
       "      <th>artists</th>\n",
       "      <th>duration_ms</th>\n",
       "      <th>release_date</th>\n",
       "      <th>year</th>\n",
       "      <th>acousticness</th>\n",
       "      <th>danceability</th>\n",
       "      <th>energy</th>\n",
       "      <th>instrumentalness</th>\n",
       "      <th>liveness</th>\n",
       "      <th>loudness</th>\n",
       "      <th>speechiness</th>\n",
       "      <th>tempo</th>\n",
       "      <th>valence</th>\n",
       "      <th>mode</th>\n",
       "      <th>key</th>\n",
       "      <th>popularity</th>\n",
       "      <th>explicit</th>\n",
       "    </tr>\n",
       "  </thead>\n",
       "  <tbody>\n",
       "    <tr>\n",
       "      <th>0</th>\n",
       "      <td>6KbQ3uYMLKb5jDxLF7wYDD</td>\n",
       "      <td>Singende Bataillone 1. Teil</td>\n",
       "      <td>['Carl Woitschach']</td>\n",
       "      <td>158648</td>\n",
       "      <td>1928</td>\n",
       "      <td>1928</td>\n",
       "      <td>0.995</td>\n",
       "      <td>0.708</td>\n",
       "      <td>0.1950</td>\n",
       "      <td>0.563</td>\n",
       "      <td>0.1510</td>\n",
       "      <td>-12.428</td>\n",
       "      <td>0.0506</td>\n",
       "      <td>118.469</td>\n",
       "      <td>0.7790</td>\n",
       "      <td>1</td>\n",
       "      <td>10</td>\n",
       "      <td>0</td>\n",
       "      <td>0</td>\n",
       "    </tr>\n",
       "    <tr>\n",
       "      <th>1</th>\n",
       "      <td>6KuQTIu1KoTTkLXKrwlLPV</td>\n",
       "      <td>Fantasiestücke, Op. 111: Più tosto lento</td>\n",
       "      <td>['Robert Schumann', 'Vladimir Horowitz']</td>\n",
       "      <td>282133</td>\n",
       "      <td>1928</td>\n",
       "      <td>1928</td>\n",
       "      <td>0.994</td>\n",
       "      <td>0.379</td>\n",
       "      <td>0.0135</td>\n",
       "      <td>0.901</td>\n",
       "      <td>0.0763</td>\n",
       "      <td>-28.454</td>\n",
       "      <td>0.0462</td>\n",
       "      <td>83.972</td>\n",
       "      <td>0.0767</td>\n",
       "      <td>1</td>\n",
       "      <td>8</td>\n",
       "      <td>0</td>\n",
       "      <td>0</td>\n",
       "    </tr>\n",
       "    <tr>\n",
       "      <th>2</th>\n",
       "      <td>6L63VW0PibdM1HDSBoqnoM</td>\n",
       "      <td>Chapter 1.18 - Zamek kaniowski</td>\n",
       "      <td>['Seweryn Goszczyński']</td>\n",
       "      <td>104300</td>\n",
       "      <td>1928</td>\n",
       "      <td>1928</td>\n",
       "      <td>0.604</td>\n",
       "      <td>0.749</td>\n",
       "      <td>0.2200</td>\n",
       "      <td>0.000</td>\n",
       "      <td>0.1190</td>\n",
       "      <td>-19.924</td>\n",
       "      <td>0.9290</td>\n",
       "      <td>107.177</td>\n",
       "      <td>0.8800</td>\n",
       "      <td>0</td>\n",
       "      <td>5</td>\n",
       "      <td>0</td>\n",
       "      <td>0</td>\n",
       "    </tr>\n",
       "  </tbody>\n",
       "</table>\n",
       "</div>"
      ],
      "text/plain": [
       "                       id                                      name  \\\n",
       "0  6KbQ3uYMLKb5jDxLF7wYDD               Singende Bataillone 1. Teil   \n",
       "1  6KuQTIu1KoTTkLXKrwlLPV  Fantasiestücke, Op. 111: Più tosto lento   \n",
       "2  6L63VW0PibdM1HDSBoqnoM            Chapter 1.18 - Zamek kaniowski   \n",
       "\n",
       "                                    artists  duration_ms release_date  year  \\\n",
       "0                       ['Carl Woitschach']       158648         1928  1928   \n",
       "1  ['Robert Schumann', 'Vladimir Horowitz']       282133         1928  1928   \n",
       "2                   ['Seweryn Goszczyński']       104300         1928  1928   \n",
       "\n",
       "   acousticness  danceability  energy  instrumentalness  liveness  loudness  \\\n",
       "0         0.995         0.708  0.1950             0.563    0.1510   -12.428   \n",
       "1         0.994         0.379  0.0135             0.901    0.0763   -28.454   \n",
       "2         0.604         0.749  0.2200             0.000    0.1190   -19.924   \n",
       "\n",
       "   speechiness    tempo  valence  mode  key  popularity  explicit  \n",
       "0       0.0506  118.469   0.7790     1   10           0         0  \n",
       "1       0.0462   83.972   0.0767     1    8           0         0  \n",
       "2       0.9290  107.177   0.8800     0    5           0         0  "
      ]
     },
     "execution_count": 7,
     "metadata": {},
     "output_type": "execute_result"
    }
   ],
   "source": [
    "spotifyData.head(3)"
   ]
  },
  {
   "cell_type": "code",
   "execution_count": 8,
   "metadata": {},
   "outputs": [
    {
     "data": {
      "text/plain": [
       "id                  True\n",
       "name                True\n",
       "artists             True\n",
       "duration_ms         True\n",
       "release_date        True\n",
       "year                True\n",
       "acousticness        True\n",
       "danceability        True\n",
       "energy              True\n",
       "instrumentalness    True\n",
       "liveness            True\n",
       "loudness            True\n",
       "speechiness         True\n",
       "tempo               True\n",
       "valence             True\n",
       "mode                True\n",
       "key                 True\n",
       "popularity          True\n",
       "explicit            True\n",
       "dtype: bool"
      ]
     },
     "execution_count": 8,
     "metadata": {},
     "output_type": "execute_result"
    }
   ],
   "source": [
    "spotifyData.any()"
   ]
  },
  {
   "cell_type": "code",
   "execution_count": 9,
   "metadata": {},
   "outputs": [
    {
     "data": {
      "text/plain": [
       "Index(['id', 'name', 'artists', 'duration_ms', 'release_date', 'year',\n",
       "       'acousticness', 'danceability', 'energy', 'instrumentalness',\n",
       "       'liveness', 'loudness', 'speechiness', 'tempo', 'valence', 'mode',\n",
       "       'key', 'popularity', 'explicit'],\n",
       "      dtype='object')"
      ]
     },
     "execution_count": 9,
     "metadata": {},
     "output_type": "execute_result"
    }
   ],
   "source": [
    "spotifyData.columns"
   ]
  },
  {
   "cell_type": "code",
   "execution_count": 10,
   "metadata": {},
   "outputs": [
    {
     "data": {
      "text/plain": [
       "id                  0\n",
       "name                0\n",
       "artists             0\n",
       "duration_ms         0\n",
       "release_date        0\n",
       "year                0\n",
       "acousticness        0\n",
       "danceability        0\n",
       "energy              0\n",
       "instrumentalness    0\n",
       "liveness            0\n",
       "loudness            0\n",
       "speechiness         0\n",
       "tempo               0\n",
       "valence             0\n",
       "mode                0\n",
       "key                 0\n",
       "popularity          0\n",
       "explicit            0\n",
       "dtype: int64"
      ]
     },
     "execution_count": 10,
     "metadata": {},
     "output_type": "execute_result"
    }
   ],
   "source": [
    "spotifyData.isnull().sum()"
   ]
  },
  {
   "cell_type": "code",
   "execution_count": 19,
   "metadata": {},
   "outputs": [
    {
     "data": {
      "text/plain": [
       "100"
      ]
     },
     "execution_count": 19,
     "metadata": {},
     "output_type": "execute_result"
    }
   ],
   "source": [
    "spotifyData['year'].nunique()\n",
    "#spotifyData['artists'].unique()"
   ]
  },
  {
   "cell_type": "code",
   "execution_count": 73,
   "metadata": {},
   "outputs": [
    {
     "data": {
      "text/plain": [
       "<AxesSubplot:title={'center':'Contagem por mod'}>"
      ]
     },
     "execution_count": 73,
     "metadata": {},
     "output_type": "execute_result"
    },
    {
     "data": {
      "image/png": "[encoded data removed]",
      "text/plain": [
       "<Figure size 432x288 with 1 Axes>"
      ]
     },
     "metadata": {
      "needs_background": "light"
     },
     "output_type": "display_data"
    }
   ],
   "source": [
    "spotifyData['mode'].unique()\n",
    "spotifyData['mode'].value_counts().plot(kind='bar', title= 'Contagem por mode',edgecolor='black', color=(1.0, 0.0, 1.0, 1)) \n",
    "#Color segue o RGBA"
   ]
  },
  {
   "cell_type": "code",
   "execution_count": 77,
   "metadata": {},
   "outputs": [
    {
     "data": {
      "text/plain": [
       "<AxesSubplot:title={'center':'Contagem por mod'}>"
      ]
     },
     "execution_count": 77,
     "metadata": {},
     "output_type": "execute_result"
    },
    {
     "data": {
      "image/png": "[encoded data removed]",
      "text/plain": [
       "<Figure size 432x288 with 1 Axes>"
      ]
     },
     "metadata": {
      "needs_background": "light"
     },
     "output_type": "display_data"
    }
   ],
   "source": [
    "spotifyData['mode'].unique()\n",
    "spotifyData['mode'].value_counts().plot(kind='bar', title= 'Contagem por mode',edgecolor='black', color=['red','blue']) \n",
    "#Color segue o RGBA"
   ]
  },
  {
   "cell_type": "code",
   "execution_count": 46,
   "metadata": {},
   "outputs": [
    {
     "data": {
      "image/png": "[encoded data removed]",
      "text/plain": [
       "<Figure size 720x720 with 1 Axes>"
      ]
     },
     "metadata": {
      "needs_background": "light"
     },
     "output_type": "display_data"
    }
   ],
   "source": [
    "bins = range(min(spotifyData['year']), max(spotifyData['year']) + 11, 10)\n",
    "labels = [f\"{bin}-{bin+9}\" for bin in bins[:-1]]\n",
    "\n",
    "# Adicionando uma nova coluna para representar os grupos de 10 anos\n",
    "spotifyData['year_group'] = pd.cut(spotifyData['year'], bins=bins, labels=labels, right=False)\n",
    "\n",
    "# Contando os valores em cada grupo\n",
    "year_group_counts = spotifyData['year_group'].value_counts()\n",
    "\n",
    "# Criando o gráfico de barras\n",
    "plot = year_group_counts.plot(kind='bar', xlabel='Anos', ylabel = 'Contagem', title= 'Contagem de Músicas por Grupo de 10 Anos',\n",
    "                              width=0.8, figsize=[10,10])\n",
    "\n",
    "\n"
   ]
  },
  {
   "cell_type": "code",
   "execution_count": 84,
   "metadata": {},
   "outputs": [
    {
     "data": {
      "image/png": "[encoded data removed]",
      "text/plain": [
       "<Figure size 720x720 with 1 Axes>"
      ]
     },
     "metadata": {
      "needs_background": "light"
     },
     "output_type": "display_data"
    }
   ],
   "source": [
    "bins = range(min(spotifyData['year']), max(spotifyData['year']) + 11, 10)\n",
    "labels = [f\"{bin}-{bin+9}\" for bin in bins[:-1]]\n",
    "\n",
    "# Adicionando uma nova coluna para representar os grupos de 10 anos\n",
    "spotifyData['year_group'] = pd.cut(spotifyData['year'], bins=bins, labels=labels, right=False)\n",
    "\n",
    "# Contando os valores em cada grupo\n",
    "year_group_counts = spotifyData['year_group'].value_counts()\n",
    "\n",
    "# Criando o gráfico de barras\n",
    "plot = year_group_counts.plot(kind='bar', xlabel='Anos', ylabel = 'Contagem', title= 'Contagem de Músicas por Grupo de 10 Anos',\n",
    "                              width=0.8, figsize=[10,10], color=[(0.3, 0.3, 1.0, 0.3),(0.0, 1.0, 1.0, 0.6),(1.0, 0.0, 1.0, 0.3),\n",
    "                                                                 (1.0, 1.0, 0.0, 0.3),(0.0, 0.0, 1.0, 0.3),(1.0, 0.0, 0.0, 0.3),\n",
    "                                                                 (0.0, 1.0, 0.0, 0.3),(0.5, 0.5, 0.0, 0.3),(0.0, 0.5, 0.5, 0.3),\n",
    "                                                                 (0.0, 0.3, 0.3, 0.3)],\n",
    "                                                                 edgecolor='black')\n",
    "\n",
    "\n"
   ]
  },
  {
   "cell_type": "code",
   "execution_count": null,
   "metadata": {},
   "outputs": [],
   "source": []
  }
 ],
 "metadata": {
  "kernelspec": {
   "display_name": "Python 3",
   "language": "python",
   "name": "python3"
  },
  "language_info": {
   "codemirror_mode": {
    "name": "ipython",
    "version": 3
   },
   "file_extension": ".py",
   "mimetype": "text/x-python",
   "name": "python",
   "nbconvert_exporter": "python",
   "pygments_lexer": "ipython3",
   "version": "3.9.0"
  },
  "orig_nbformat": 4
 },
 "nbformat": 4,
 "nbformat_minor": 2
}
