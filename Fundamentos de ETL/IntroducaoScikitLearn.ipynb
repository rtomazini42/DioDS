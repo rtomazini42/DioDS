{
 "cells": [
  {
   "cell_type": "markdown",
   "metadata": {},
   "source": [
    "# Scikit-learn\n"
   ]
  },
  {
   "cell_type": "code",
   "execution_count": 4,
   "metadata": {},
   "outputs": [],
   "source": [
    "import sklearn as sk"
   ]
  },
  {
   "cell_type": "markdown",
   "metadata": {},
   "source": [
    "Gerar regressão"
   ]
  },
  {
   "cell_type": "code",
   "execution_count": 56,
   "metadata": {},
   "outputs": [],
   "source": [
    "from sklearn.datasets import make_regression\n",
    "x, y = make_regression(n_samples= 250,n_features=1, noise=20)"
   ]
  },
  {
   "cell_type": "markdown",
   "metadata": {},
   "source": [
    "Mostrando dados"
   ]
  },
  {
   "cell_type": "code",
   "execution_count": 58,
   "metadata": {},
   "outputs": [
    {
     "data": {
      "image/png": "[encoded data removed]",
      "text/plain": [
       "<Figure size 432x288 with 1 Axes>"
      ]
     },
     "metadata": {
      "needs_background": "light"
     },
     "output_type": "display_data"
    }
   ],
   "source": [
    "import matplotlib.pyplot as plt \n",
    "\n",
    "plt.scatter(x,y)\n",
    "plt.show()"
   ]
  },
  {
   "cell_type": "markdown",
   "metadata": {},
   "source": [
    "Modelo a partir dos dados gerados"
   ]
  },
  {
   "cell_type": "code",
   "execution_count": 67,
   "metadata": {},
   "outputs": [],
   "source": [
    "from sklearn.linear_model import LinearRegression\n",
    "modelo = LinearRegression()"
   ]
  },
  {
   "cell_type": "markdown",
   "metadata": {},
   "source": [
    "Treinar o modelo com o método fit"
   ]
  },
  {
   "cell_type": "code",
   "execution_count": 68,
   "metadata": {},
   "outputs": [
    {
     "data": {
      "text/plain": [
       "LinearRegression()"
      ]
     },
     "execution_count": 68,
     "metadata": {},
     "output_type": "execute_result"
    }
   ],
   "source": [
    "modelo.fit(x,y)"
   ]
  },
  {
   "cell_type": "code",
   "execution_count": 69,
   "metadata": {},
   "outputs": [
    {
     "data": {
      "text/plain": [
       "array([-1.73949009e+02, -5.14415147e+01,  1.75855895e+01,  7.09350872e+00,\n",
       "       -5.34353093e+01, -2.45840455e+02, -1.18813650e+02, -1.29453329e+02,\n",
       "        3.46836685e+01,  4.61683008e+01,  1.94758178e+02,  5.80483947e+00,\n",
       "        5.75298839e+01, -5.92200707e+01, -3.15717984e+01, -8.75955329e+00,\n",
       "       -9.77256281e+01, -1.76794573e+01, -1.72938254e+01,  2.07364639e+02,\n",
       "       -2.11381067e+01,  1.32072151e+02,  9.11349952e+01, -1.82705359e+02,\n",
       "       -4.17684621e+00, -8.22078600e+01,  1.62280522e+02,  1.19154442e+01,\n",
       "        1.66959991e+01, -5.62606760e+01, -8.20714280e+01,  5.38590121e+01,\n",
       "       -1.19013416e+02,  6.53839573e+01,  1.10856808e+02,  7.82263207e+01,\n",
       "       -6.61017121e+00, -1.72348440e+01,  1.38356466e+01, -1.31427317e+02,\n",
       "        1.11096316e+00, -1.16633634e+02, -4.53356101e+01,  3.87535558e+01,\n",
       "        1.46822071e+02,  7.27061013e+01, -1.18964939e+02, -6.44359378e+01,\n",
       "        1.12583060e+02,  7.08302942e+01,  1.07859317e+02, -3.85419265e+01,\n",
       "        6.40767534e+00,  8.78441366e+00,  6.91326742e+01,  6.82391753e+01,\n",
       "        1.10487995e+01, -5.89152422e+01, -5.28796356e+01, -6.30514236e+01,\n",
       "        7.23514153e+01,  8.50976530e+00, -1.32861433e+01, -6.47698550e+01,\n",
       "       -1.42284793e+02, -1.19539821e+01,  1.50749393e+01,  8.58028839e+00,\n",
       "       -1.03383797e+02,  4.04795798e+01,  3.87090465e+00,  4.15489654e+01,\n",
       "       -3.64600842e+01, -1.23954103e+02, -1.67018537e+02,  6.38518894e+01,\n",
       "       -1.86355641e+02,  1.67931565e+01,  2.06658746e+01, -1.98673611e+02,\n",
       "        1.91894259e+02, -1.23545419e+02, -1.23556455e+02, -5.32480148e+00,\n",
       "        5.54553133e+01,  2.38042925e+01,  9.58795553e+01, -1.98304391e+02,\n",
       "        3.36529401e+01, -5.28245643e+01,  1.21733012e+02,  1.67578733e+00,\n",
       "        2.14650923e+01, -1.40607224e+02,  1.14311214e+00,  4.96696139e+01,\n",
       "       -5.00632405e+00,  2.49238998e+02, -3.81570390e+01, -1.00911851e+02,\n",
       "       -2.43098430e+01,  1.59339105e+02,  1.04013528e+01, -5.96244163e+01,\n",
       "        8.87178135e+01, -6.83203526e+01,  3.85031425e+01,  1.21072734e+02,\n",
       "       -6.79705085e+01,  6.05672744e+01, -8.14679003e+01,  5.90427031e+01,\n",
       "        7.03090143e+01, -2.25155058e+01, -5.60865506e+00, -6.44471013e+01,\n",
       "       -9.27742530e+01, -7.55978803e+01,  2.61194426e+01, -8.84978497e+01,\n",
       "        8.10658425e+01,  9.43444286e+01, -5.01291329e+01,  7.58993306e-01,\n",
       "        3.30471281e+01,  1.48093841e+00,  1.26739160e+01,  1.65054266e+02,\n",
       "        1.15138396e+01,  1.81064236e+01, -1.20195248e+02, -1.42129251e+02,\n",
       "       -4.26379983e+01, -5.04597736e+00, -7.90884721e+01, -1.06280261e+02,\n",
       "        1.48552300e+01, -1.49722233e+02, -8.62264610e+01,  1.15116006e+01,\n",
       "       -8.69127773e+01,  5.08812872e+01, -2.25840923e+01, -1.00600847e+02,\n",
       "        7.95840465e+01, -1.57775822e+00,  1.26371823e+02,  8.01676289e+01,\n",
       "        1.57401033e+01,  1.56609785e+02,  1.18214294e+01,  2.82255344e+01,\n",
       "       -3.02971808e+01, -9.66335281e+01,  1.08232410e+02, -2.05760749e+02,\n",
       "        6.15227361e+00, -5.01167016e+01, -5.70245622e+00, -8.27482581e+01,\n",
       "       -4.18631985e+01,  7.76709343e+01, -4.97686348e+01, -5.74539005e+01,\n",
       "        5.70583676e+00,  1.28114224e+01, -4.59461862e+01, -1.71553845e+02,\n",
       "       -2.30121769e+01, -2.03892903e+01,  1.55106588e+01,  1.37242241e-02,\n",
       "        1.79586355e+02, -4.03793933e+01,  2.54693492e+01,  1.07546413e+02,\n",
       "        6.54165678e+01, -9.69979549e+01, -1.26770001e+02,  3.42595014e+01,\n",
       "       -1.09658690e+02, -1.90104515e+01, -1.60055817e+02, -5.19285193e+00,\n",
       "       -4.62213082e+01,  8.50935554e+01,  1.18243060e+02,  3.63258841e+01,\n",
       "       -1.03016019e+02, -1.66404318e+02,  6.66959247e+01, -6.51507725e+01,\n",
       "        1.21910650e+02,  5.71108518e+01,  8.45522502e+00, -1.23694531e+01,\n",
       "       -9.00984147e+00, -6.56631688e+01,  5.56802317e+00,  6.51010780e+01,\n",
       "       -3.11716622e+01,  1.73067356e+02, -2.63664323e+00, -5.97579465e+01,\n",
       "       -9.58258201e+01, -8.31718239e+01, -4.07723234e+01,  8.15640171e+01,\n",
       "        1.90673635e+02, -1.12560931e+02, -8.15883874e+01, -1.88225410e+01,\n",
       "       -1.24273318e+02,  7.88342946e+01,  2.50887587e+02,  6.73304881e+01,\n",
       "        5.21946378e+01,  1.57682791e+01,  4.01840863e+01,  2.57553020e+01,\n",
       "        1.91662787e+02,  5.47568831e+00, -9.67797215e+01, -9.55082924e+01,\n",
       "        2.96730655e+01,  4.51178341e+01, -1.97356672e+01, -1.13393464e+01,\n",
       "        1.39770329e+02, -2.81206637e+01,  6.48429306e+01,  5.09869240e+01,\n",
       "       -7.66063012e+00, -2.61451382e-01,  2.68779938e+02,  1.20956553e+02,\n",
       "        2.40572402e+01, -8.37828452e+01,  1.20927954e+02,  1.26061830e+02,\n",
       "       -1.73218920e+02, -1.24863635e+02,  7.44255264e+01, -7.78790408e+01,\n",
       "        9.58069658e+01, -1.09520399e+01, -7.57487261e+01,  7.69407847e+01,\n",
       "        1.00891849e+02, -1.47763399e+02])"
      ]
     },
     "execution_count": 69,
     "metadata": {},
     "output_type": "execute_result"
    }
   ],
   "source": [
    "modelo.predict(x)"
   ]
  },
  {
   "cell_type": "code",
   "execution_count": 70,
   "metadata": {},
   "outputs": [
    {
     "data": {
      "image/png": "[encoded data removed]",
      "text/plain": [
       "<Figure size 432x288 with 1 Axes>"
      ]
     },
     "metadata": {
      "needs_background": "light"
     },
     "output_type": "display_data"
    }
   ],
   "source": [
    "plt.scatter(x,y)\n",
    "plt.plot(x,modelo.predict(x), color='red', linewidth=3)\n",
    "plt.show()"
   ]
  },
  {
   "cell_type": "markdown",
   "metadata": {},
   "source": [
    "plt.scatter(x,y)"
   ]
  }
 ],
 "metadata": {
  "kernelspec": {
   "display_name": "Python 3",
   "language": "python",
   "name": "python3"
  },
  "language_info": {
   "codemirror_mode": {
    "name": "ipython",
    "version": 3
   },
   "file_extension": ".py",
   "mimetype": "text/x-python",
   "name": "python",
   "nbconvert_exporter": "python",
   "pygments_lexer": "ipython3",
   "version": "3.9.0"
  },
  "orig_nbformat": 4
 },
 "nbformat": 4,
 "nbformat_minor": 2
}
